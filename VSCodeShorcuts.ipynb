{
 "cells": [
  {
   "cell_type": "markdown",
   "id": "32574b1d",
   "metadata": {},
   "source": [
    "\n",
    "从编辑器跳转到终端：Ctrl + `\n",
    "从终端跳转回编辑器：Ctrl + 1\n",
    "Open Augment ：Ctrl + L\n",
    "\n",
    "使用 git log 显示历史 commit 记录，卡在分页器：按 q 解决！！\n",
    "\n",
    "git add \n",
    "git commit \n",
    "1. git status \n",
    "2. git diff\n",
    "3. git log \n",
    "4. git reset --hard HEAD^\n",
    "``` \n",
    "-- head 参数：会回退到 上个版本的已提交状态。\n",
    "```\n",
    "5. git reset --hard f4e028bba\n",
    "```\n",
    "版本回退了之后尝试回退到未来版本\n",
    "```\n",
    "\n",
    "\n"
   ]
  }
 ],
 "metadata": {
  "language_info": {
   "name": "python"
  }
 },
 "nbformat": 4,
 "nbformat_minor": 5
}
