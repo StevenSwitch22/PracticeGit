{
 "cells": [
  {
   "cell_type": "markdown",
   "id": "32574b1d",
   "metadata": {},
   "source": [
    "\n",
    "从编辑器跳转到终端：Ctrl + `\n",
    "从终端跳转回编辑器：Ctrl + 1\n",
    "Open Augment ：Ctrl + L\n",
    "\n",
    "使用 git log 显示历史 commit 记录，卡在分页器：按 q 解决！！\n",
    "\n",
    "git add \n",
    "git commit \n",
    "1. git status \n",
    "2. git diff\n",
    "---\n",
    "3. git log  git log --pretty=oneline\n",
    "4. git reset --hard HEAD^\n",
    "``` \n",
    "-- head 参数：会回退到 上个版本的已提交状态。\n",
    "```\n",
    "5. git reset --hard f4e028bba\n",
    "```\n",
    "版本回退了之后命令行还没有关闭能找到新版本的 commit id 尝试回退到未来版本\n",
    "```\n",
    "但是如果我关闭了 窗口 此时找不到 commit id 了，但我也想恢复到新版本，意味着必须找到 commit id，该怎么操作？\n",
    "\n",
    "6. git reflog  记录每次命令\n",
    "-----\n",
    "工作区：存放各种 md txt 文件 \n",
    "\n",
    "版本库：.git 文件夹\n",
    "\n",
    "版本库包括 Stage 暂存区 和 master 分支\n",
    "\n",
    "git add 就是把文件放在版本库的暂存区\n",
    "\n",
    "git commit 就是把暂存区的文件提交到 master 分支\n",
    "\n",
    "--------\n",
    "## 3. Git 管理的是内容的修改，而不是文件\n",
    "git add 提交修改到暂存区，而不是提交文件到暂存区，add 过后如果再修改文件，不重新 add 的话\n",
    "第二次修改就不会被保存，而是保存第一次的修改，因为第二次修改没有 add。\n",
    "\n",
    "## 4. 撤销修改\n",
    "\n",
    "\n",
    "\n"
   ]
  }
 ],
 "metadata": {
  "language_info": {
   "name": "python"
  }
 },
 "nbformat": 4,
 "nbformat_minor": 5
}
